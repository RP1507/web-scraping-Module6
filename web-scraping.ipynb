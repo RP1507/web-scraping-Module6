{
 "cells": [
  {
   "cell_type": "markdown",
   "metadata": {},
   "source": [
    "# Web Mining and Applied NLP (44-620)\n",
    "\n",
    "## Web Scraping and NLP with Requests, BeautifulSoup, and spaCy\n",
    "\n",
    "### Student Name: Ryan Smith - Github: https://github.com/RP1507/web-scraping-Module6\n",
    "\n",
    "Perform the tasks described in the Markdown cells below.  When you have completed the assignment make sure your code cells have all been run (and have output beneath them) and ensure you have committed and pushed ALL of your changes to your assignment repository.\n",
    "\n",
    "Every question that requires you to write code will have a code cell underneath it; you may either write your entire solution in that cell or write it in a python file (`.py`), then import and run the appropriate code to answer the question."
   ]
  },
  {
   "cell_type": "markdown",
   "metadata": {},
   "source": [
    "## Question 1:\n",
    "\n",
    "1. Write code that extracts the article html from https://web.archive.org/web/20210327165005/https://hackaday.com/2021/03/22/how-laser-headlights-work/ and dumps it to a .pkl (or other appropriate file)"
   ]
  },
  {
   "cell_type": "code",
   "execution_count": 190,
   "metadata": {},
   "outputs": [],
   "source": [
    "import requests\n",
    "\n",
    "#response = requests.get('https://web.archive.org/web/20210327165005/https://hackaday.com/2021/03/22/how-laser-headlights-work') testing\n",
    "\n",
    "#print(response.status_code)\n",
    "#print(response.headers['content-type']) testing \n",
    "\n",
    "from bs4 import BeautifulSoup\n",
    "\n",
    "parser = 'html5lib'\n",
    "\n",
    "soup = BeautifulSoup(response.text, parser)\n",
    "\n",
    "article_page = requests.get('https://web.archive.org/web/20210327165005/https://hackaday.com/2021/03/22/how-laser-headlights-work')\n",
    "article_html = article_page.text\n",
    "\n",
    "import pickle\n",
    "\n",
    "with open('laserheadlights.pkl', 'wb') as f:\n",
    "    pickle.dump(article_page.text, f)\n",
    "    \n"
   ]
  },
  {
   "cell_type": "markdown",
   "metadata": {},
   "source": [
    "## Question 2:\n",
    "\n",
    "2. Read in your article's html source from the file you created in question 1 and print it's text (use `.get_text()`)"
   ]
  },
  {
   "cell_type": "code",
   "execution_count": 191,
   "metadata": {},
   "outputs": [
    {
     "name": "stdout",
     "output_type": "stream",
     "text": [
      "\n",
      "    \n",
      "        How Laser Headlights Work\n",
      "        \n",
      "            \n",
      "                130 Comments            \n",
      "            \n",
      "                by:\n",
      "                Lewin Day\n",
      "            \n",
      "        \n",
      "\n",
      "        \n",
      "            March 22, 2021\n",
      "            \n",
      "                \n",
      "                \n",
      "            \n",
      "        \n",
      "\n",
      "        \n",
      "    \n",
      "\n",
      "    \n",
      "        When we think about the onward march of automotive technology, headlights aren’t usually the first thing that come to mind. Engines, fuel efficiency, and the switch to electric power are all more front of mind. However, that doesn’t mean there aren’t thousands of engineers around the world working to improve the state of the art in automotive lighting day in, day out.\n",
      "Sealed beam headlights gave way to more modern designs once regulations loosened up, while bulbs moved from simple halogens to xenon HIDs and, more recently, LEDs. Now, a new technology is on the scene, with lasers!\n",
      "\n",
      "Laser Headlights?!\n",
      "BWM’s prototype laser headlight assemblies undergoing testing.\n",
      "The first image brought to mind by the phrase “laser headlights” is that of laser beams firing out the front of an automobile. Obviously, coherent beams of monochromatic light would make for poor illumination outside of a very specific spot quite some distance away. Thankfully for our eyes, laser headlights don’t work in this way at all.\n",
      "Instead, laser headlights consist of one or more solid state laser diodes mounted inside the headlight. These blue lasers are fired at a yellow phosphor, similar to that used in white LEDs. This produces a powerful, vibrant white light that can then be bounced off reflectors and out of the headlights towards the road. Laser headlights built in this way have several benefits. They’re more energy efficient than LEDs that put out the same amount of light, while also being more space efficient, too.\n",
      "BWM’s futuristic i8 was one of the first vehicles to ship with laser headlight technology.\n",
      "Laser headlights are still a nascent technology, thus far only appearing in a few BMW, Audi, and other select vehicles. BMW’s technology was developed in partnership with lighting experts OSRAM. In practice, a regular LED low-beam lamp is used, with the laser used to create an incredibly bright and focused spot, used for high-beams. This can provide illumination out to 600 meters ahead of the vehicle, double that of conventional LED high beams. The lights use indium gallium nitride diode lasers that were originally used in projectors, with power levels above 1 watt. One of the challenges in implementing such technology in an automotive environment is the need for it to operate at temperature extremes. While research lasers and laser pointers may primarily be used at typical room temperatures, automotive headlights must be able to withstand everything from 40 degrees below zero up to 50 degrees C. Thankfully, the laser’s high efficiency means it doesn’t have huge heat output of its own to further complicate things. Other engineering challenges involve tailoring the optics package for the rough-and-tumble, high vibration environment found in the automotive application. It’s also important to ensure, as with any such device, that the end user can’t be exposed to harmful laser radiation in the event of accident or malfunction.\n",
      "Tearing Down the Laser Headlight\n",
      "A marketing image showing the construction of an aftermarket LED/laser headlight. We’d take the laser power with a grain of salt — it’s difficult to imagine a 10 W laser shining directly on some small LEDs without melting a hole through the board in short order.\n",
      "An aftermarket has sprung up too, with delightfully innovative designs. Combined laser/LED headlights are readily available on Alibaba, designed as a drop in replacement for projector lamps on existing vehicles. These often use an LED low-beam, and a combined LED/laser high beam, where the laser diode shoots directly at the LED phosphor to excite it further, rather than using its own. These units often also come with fan cooling to keep the laser and LEDs below their maximum operational temperature. Such developments are exciting, though it’s important to be wary of the performance of unknown aftermarket headlights. Many aftermarket LED headlight “upgrades” fail to pass muster when it comes to real-world performance, and there’s no reason to believe hybrid LED/laser designs will be any different. We’d love to pass a selection of these parts through a full IIHS test protocol, but that’s sadly beyond the scope (and budget!) of this article.\n",
      "However, [mikeselectricstuff] has happened to lay his hands on both the BMW and aftermarket parts, tearing them all down in his workshop to see what makes them tick. The differences are multitude when laid bare on the bench. The AliExpress part is relatively simple, wired up no differently from a regular headlight. Interestingly, however, the laser high-beam circuit runs all the time in these parts. To prevent blinding other road users, a shutter is kept in place to block the light, which is moved out of the way with a solenoid when the driver turns on the high beam switch.\n",
      "Where the aftermarket part is a little out of left field, the BMW design is another thing entirely. The cutting-edge headlights are hooked up with multiple connectors and over 30 conductors, with much of the driver electronics living in an external controller. Much of this is to drive the various LEDs and stepper motors for slewing the headlights when steering. However, the laser assembly brings its own complexities. Twin light sensors are built inside to monitor the laser beam, and a special metal blocking arm sits directly in front of the diode, presumably to stop the laser light leaving the headlight in the event the phosphor coating burns through. It’s truly wild to get a look inside a modern luxury car’s headlight and see just how far we’ve come from the old days of simple sealed beams.\n",
      "Cost Versus Performance\n",
      "Despite the efficiency gains available, the technology remains expensive. Powerful laser diodes don’t come cheap, after all. However, as the technology trickles down to lower-end models, it’s likely that we could see economies of scale change that for the better. Indeed, if national authorities begin to demand higher performance headlights as standard, we could see laser headlights become the norm, rather than an expensive luxury. The technology could naturally be applied to home and commercial lighting, too — though we suspect the potential gains are limited enough that LED lighting will remain the norm for some time to come.\n",
      "The high light output of laser headlights in a compact package allows engineers greater freedom when designing the front-end of a car.\n",
      "As it currently stands, much of the appeal of the new technology is about the packaging benefits, which allow automotive designers greater freedom around the headlight area. Such concerns are less of a factor when it comes to light fittings in the home or office, or indeed, on lower-end automobiles. Regardless, it’s an exciting new application for lasers and one we’ll be sure to see more of in the future.\n",
      " \n",
      "\t            \n",
      "    \n",
      "    \t\t\t\t\t\n",
      "    \t\t\t\t\n",
      "    \t\t\t\t\t \n",
      "    \t\t\t\t\t\t\t\t\t\n",
      "    \t\t\t\n",
      "    \t\t\t\t\t\n",
      "    \t\t\t\t\n",
      "    \t\t\t\t\t\n",
      "    \t\t\t\t\t\t\t\t\t\n",
      "    \t\t\t\n",
      "    \t\t\t\t\t\n",
      "    \t\t\t\t\n",
      "    \t\t\t\t\t\n",
      "    \t\t\t\t\t\t\t\t\t\n",
      "    \t\t\t\n",
      "    \t\t\t\t\t\n",
      "                \n",
      "    \t\t\t\t\t\n",
      "    \t\t\t\t\t\t\t\t\t\n",
      "    \t\t\t\n",
      "    \t\t\t\n",
      "    \n",
      "        Posted in car hacks, Engineering, Featured, Laser Hacks, SliderTagged laser, laser headlight, laser headlights, light    \n",
      "\n"
     ]
    }
   ],
   "source": [
    "with open('laserheadlights.pkl', 'rb') as f:\n",
    "    article_html = pickle.load(f)\n",
    "    \n",
    "soup = BeautifulSoup(article_html, parser)\n",
    "\n",
    "article_element = soup.find('article')\n",
    "\n",
    "print(article_element.get_text())"
   ]
  },
  {
   "cell_type": "markdown",
   "metadata": {},
   "source": [
    "## Question 3:\n",
    "\n",
    "3. Load the article text into a trained `spaCy` pipeline, and determine the 5 most frequent tokens (converted to lower case).  Print the common tokens with an appropriate label.  Additionally, print the tokens their frequencies (with appropriate labels). Make sure to remove things we don't care about (punctuation, stopwords, whitespace)."
   ]
  },
  {
   "cell_type": "code",
   "execution_count": 192,
   "metadata": {},
   "outputs": [
    {
     "name": "stdout",
     "output_type": "stream",
     "text": [
      "The top 5 most frequent tokens are:  [('laser', 35), ('headlights', 19), ('headlight', 11), ('technology', 10), ('led', 10)]\n",
      "Most Frequent Tokens: {'led', 'laser', 'headlights', 'technology', 'headlight'}\n"
     ]
    }
   ],
   "source": [
    "import spacy\n",
    "from collections import Counter\n",
    "\n",
    "nlp = spacy.load('en_core_web_sm')\n",
    "doc = nlp(article_element.get_text())\n",
    "\n",
    "\n",
    "# Remove whitespace, punctuation, and stopword tokens\n",
    "# Convert all letters to lowercase\n",
    "\n",
    "def we_care_about(token):\n",
    "    return not (token.is_space or token.is_punct or token.is_stop)\n",
    "\n",
    "interesting_tokens = [str(token).lower() for token in doc if we_care_about(token)]\n",
    "word_freq = Counter(map(str,interesting_tokens))\n",
    "print('The top 5 most frequent tokens are: ', word_freq.most_common(5))\n",
    "\n",
    "top_tokens = set()\n",
    "for token, freq in word_freq.most_common(5):\n",
    "    top_tokens.add(token)\n",
    "print('Most Frequent Tokens:', top_tokens)"
   ]
  },
  {
   "cell_type": "markdown",
   "metadata": {},
   "source": [
    "## Question 4:\n",
    "\n",
    "4. Load the article text into a trained `spaCy` pipeline, and determine the 5 most frequent lemmas (converted to lower case).  Print the common lemmas with an appropriate label.  Additionally, print the lemmas with their frequencies (with appropriate labels). Make sure to remove things we don't care about (punctuation, stopwords, whitespace)."
   ]
  },
  {
   "cell_type": "code",
   "execution_count": 193,
   "metadata": {},
   "outputs": [
    {
     "name": "stdout",
     "output_type": "stream",
     "text": [
      "The top 5 most frequent lemmas  [('laser', 40), ('headlight', 28), ('beam', 12), ('led', 12), ('light', 11)]\n",
      "Most Frequent Lemmas: {'led', 'laser', 'light', 'beam', 'headlight'}\n"
     ]
    }
   ],
   "source": [
    "interesting_lemmas = [token.lemma_.lower() for token in doc if we_care_about(token)]\n",
    "lemma_freq = Counter(interesting_lemmas)\n",
    "print('The top 5 most frequent lemmas ', lemma_freq.most_common(5))\n",
    "\n",
    "top_lemmas = set()\n",
    "for token, freq in lemma_freq.most_common(5):\n",
    "    top_lemmas.add(token)\n",
    "print('Most Frequent Lemmas:', top_lemmas)"
   ]
  },
  {
   "cell_type": "markdown",
   "metadata": {},
   "source": [
    "## Question 5:\n",
    "\n",
    "5. Define the following methods:\n",
    "    * `score_sentence_by_token(sentence, interesting_token)` that takes a sentence and a list of interesting token and returns the number of times that any of the interesting words appear in the sentence divided by the number of words in the sentence\n",
    "    * `score_sentence_by_lemma(sentence, interesting_lemmas)` that takes a sentence and a list of interesting lemmas and returns the number of times that any of the interesting lemmas appear in the sentence divided by the number of words in the sentence\n",
    "    \n",
    "You may find some of the code from the in class notes useful; feel free to use methods (rewrite them in this cell as well).  Test them by showing the score of the first sentence in your article using the frequent tokens and frequent lemmas identified in question 3."
   ]
  },
  {
   "cell_type": "code",
   "execution_count": 194,
   "metadata": {},
   "outputs": [
    {
     "name": "stdout",
     "output_type": "stream",
     "text": [
      "Score sentence by token: 0.12121212121212122\n",
      "Top 5 tokens were: {'led', 'laser', 'headlights', 'technology', 'headlight'}\n",
      "\n",
      "    \n",
      "        How Laser Headlights Work\n",
      "        \n",
      "            \n",
      "                130 Comments            \n",
      "            \n",
      "                by:\n",
      "                Lewin Day\n",
      "            \n",
      "        \n",
      "\n",
      "        \n",
      "            March 22, 2021\n",
      "            \n",
      "                \n",
      "                \n",
      "            \n",
      "        \n",
      "\n",
      "        \n",
      "    \n",
      "\n",
      "    \n",
      "        When we think about the onward march of automotive technology, headlights aren’t usually the first thing that come to mind.\n"
     ]
    }
   ],
   "source": [
    "def score_sentence_by_token(sentence, top_tokens):\n",
    "    tokens = 0\n",
    "    words = 0\n",
    "    for token in sentences[sentence]:\n",
    "        if not(token.is_space or token.is_punct):\n",
    "            words += 1\n",
    "        if token.text.lower() in top_tokens:\n",
    "            tokens += 1\n",
    "    return tokens/words\n",
    "\n",
    "sentences = list(doc.sents)\n",
    "sentence = sentences[0]\n",
    "score = score_sentence_by_token(0, top_tokens)\n",
    "\n",
    "print('Score sentence by token:',score)\n",
    "print('Top 5 tokens were:',top_tokens)\n",
    "print(sentence)"
   ]
  },
  {
   "cell_type": "code",
   "execution_count": 195,
   "metadata": {},
   "outputs": [
    {
     "name": "stdout",
     "output_type": "stream",
     "text": [
      "Score sentence by lemma: 0.030303030303030304\n",
      "Top 5 Lemmas were: {'led', 'laser', 'light', 'beam', 'headlight'}\n",
      "\n",
      "    \n",
      "        How Laser Headlights Work\n",
      "        \n",
      "            \n",
      "                130 Comments            \n",
      "            \n",
      "                by:\n",
      "                Lewin Day\n",
      "            \n",
      "        \n",
      "\n",
      "        \n",
      "            March 22, 2021\n",
      "            \n",
      "                \n",
      "                \n",
      "            \n",
      "        \n",
      "\n",
      "        \n",
      "    \n",
      "\n",
      "    \n",
      "        When we think about the onward march of automotive technology, headlights aren’t usually the first thing that come to mind.\n"
     ]
    }
   ],
   "source": [
    "# score sentence by lemma\n",
    "    \n",
    "def score_sentence_by_lemma(sentence, top_lemmas):\n",
    "    lemmas = 0\n",
    "    words = 0\n",
    "    for lemma in sentences[sentence]:\n",
    "        if not(lemma.is_space or lemma.is_punct):\n",
    "            words += 1\n",
    "        if lemma.text.lower() in top_lemmas:\n",
    "            lemmas += 1\n",
    "    return lemmas/words\n",
    "\n",
    "sentences = list(doc.sents)\n",
    "sentence = sentences[0]\n",
    "score = score_sentence_by_lemma(0,top_lemmas)\n",
    "\n",
    "print('Score sentence by lemma:',score)\n",
    "print('Top 5 Lemmas were:', top_lemmas)\n",
    "print(sentence)"
   ]
  },
  {
   "cell_type": "markdown",
   "metadata": {},
   "source": [
    "## Question 6:\n",
    "\n",
    "6. Make a list containing the scores (using tokens) of every sentence in the article, and plot a histogram with appropriate titles and axis labels of the scores. From your histogram, what seems to be the most common range of scores (put the answer in a comment after your code)?"
   ]
  },
  {
   "cell_type": "code",
   "execution_count": 196,
   "metadata": {},
   "outputs": [
    {
     "name": "stdout",
     "output_type": "stream",
     "text": [
      "The scores or each sentence by token:\n",
      "[0.12121212121212122, 0.0, 0.0, 0.038461538461538464, 0.1, 1.0, 0.25, 0.13043478260869565, 0.0, 0.2, 0.0, 0.045454545454545456, 0.2222222222222222, 0.0, 0.1875, 0.15, 0.09090909090909091, 0.07692307692307693, 0.05263157894736842, 0.0, 0.045454545454545456, 0.05660377358490566, 0.0, 0.03333333333333333, 0.29411764705882354, 0.05555555555555555, 0.0, 0.14285714285714285, 0.15151515151515152, 0.05263157894736842, 0.05555555555555555, 0.12903225806451613, 0.0, 0.0, 0.0, 0.07142857142857142, 0.07142857142857142, 0.0, 0.0, 0.04, 0.05555555555555555, 0.125, 0.07317073170731707, 0.06666666666666667, 0.0, 0.08333333333333333, 0.1111111111111111, 0.04, 0.12, 0.06060606060606061, 0.08695652173913043, 0.07407407407407407, 0.0, 0.0, 0.4]\n"
     ]
    },
    {
     "data": {
      "image/png": "[encoded data removed]",
      "text/plain": [
       "<Figure size 432x288 with 1 Axes>"
      ]
     },
     "metadata": {
      "needs_background": "light"
     },
     "output_type": "display_data"
    }
   ],
   "source": [
    "import matplotlib.pyplot as plt\n",
    "sentences = list(doc.sents)\n",
    "\n",
    "def sentence_len(sentence):\n",
    "    count = 0\n",
    "    for token in sentence:\n",
    "        if not(token.is_space or token.is_punct):\n",
    "            count += 1\n",
    "    return count\n",
    "\n",
    "def score_sentence_by_token(sentence, top_tokens):\n",
    "    tokens = 0\n",
    "    if sentence_len(sentence) == 0:\n",
    "        return 0\n",
    "    for token in sentence:\n",
    "        if str(token).lower() in top_tokens:\n",
    "            tokens += 1\n",
    "    return tokens/sentence_len(sentence)\n",
    "\n",
    "# make a list of token scores\n",
    "token_scores_list = []\n",
    "\n",
    "for sentence in sentences:\n",
    "    token_scores_list.append(score_sentence_by_token(sentence, top_tokens))\n",
    "print('The scores or each sentence by token:')\n",
    "print(token_scores_list)\n",
    "\n",
    "# plot histogram\n",
    "plt.hist(token_scores_list)\n",
    "plt.title('Sentence Scores by Token',fontweight = 'bold')\n",
    "plt.ylabel('Token Frequency',fontweight = 'bold')\n",
    "plt.xlabel('Scores', fontweight = 'bold')\n",
    "plt.show()\n",
    "\n",
    "# The largest number of scores by token fall in the 0.0 to 0.1 range. "
   ]
  },
  {
   "cell_type": "markdown",
   "metadata": {},
   "source": [
    "## Question 7:\n",
    "\n",
    "7. Make a list containing the scores (using lemmas) of every sentence in the article, and plot a histogram with appropriate titles and axis labels of the scores.  From your histogram, what seems to be the most common range of scores (put the answer in a comment after your code)?"
   ]
  },
  {
   "cell_type": "code",
   "execution_count": 197,
   "metadata": {},
   "outputs": [
    {
     "name": "stdout",
     "output_type": "stream",
     "text": [
      "The scores or each sentence by lemmas:\n",
      "[0.030303030303030304, 0.0, 0.0, 0.038461538461538464, 0.0, 0.5, 0.25, 0.08695652173913043, 0.047619047619047616, 0.13333333333333333, 0.0, 0.045454545454545456, 0.1111111111111111, 0.045454545454545456, 0.125, 0.05, 0.0, 0.11538461538461539, 0.05263157894736842, 0.0, 0.0, 0.03773584905660377, 0.0, 0.03333333333333333, 0.29411764705882354, 0.05555555555555555, 0.0, 0.09523809523809523, 0.21212121212121213, 0.05263157894736842, 0.0, 0.12903225806451613, 0.0, 0.0, 0.0, 0.07142857142857142, 0.14285714285714285, 0.05714285714285714, 0.0, 0.0, 0.0, 0.125, 0.14634146341463414, 0.06666666666666667, 0.0, 0.0, 0.1111111111111111, 0.0, 0.04, 0.030303030303030304, 0.08695652173913043, 0.037037037037037035, 0.041666666666666664, 0.0, 0.4]\n"
     ]
    },
    {
     "data": {
      "image/png": "[encoded data removed]",
      "text/plain": [
       "<Figure size 432x288 with 1 Axes>"
      ]
     },
     "metadata": {
      "needs_background": "light"
     },
     "output_type": "display_data"
    }
   ],
   "source": [
    "def sentence_lemma_len(sentence):\n",
    "    count = 0\n",
    "    for lemma in sentence:\n",
    "        if not(lemma.is_space or lemma.is_punct):\n",
    "            count += 1\n",
    "    return count\n",
    "\n",
    "def score_sentence_by_lemma(sentence, top_lemmas):\n",
    "    lemmas = 0\n",
    "    if sentence_lemma_len(sentence) == 0:\n",
    "        return 0\n",
    "    for lemma in sentence:\n",
    "        if str(lemma).lower() in top_lemmas:\n",
    "            lemmas += 1\n",
    "    return lemmas/sentence_lemma_len(sentence)\n",
    "\n",
    "# make a list of token scores\n",
    "lemma_scores_list = []\n",
    "\n",
    "for sentence in sentences:\n",
    "    lemma_scores_list.append(score_sentence_by_lemma(sentence, top_lemmas))\n",
    "print('The scores or each sentence by lemmas:')\n",
    "print(lemma_scores_list)\n",
    "\n",
    "# plot histogram\n",
    "plt.hist(lemma_scores_list)\n",
    "plt.title('Sentence Scores by Lemma',fontweight = 'bold')\n",
    "plt.ylabel('Lemma Frequency',fontweight = 'bold')\n",
    "plt.xlabel('Scores', fontweight = 'bold')\n",
    "plt.show()\n",
    "\n",
    "# The range is a bit lower for the lemmas and doesn't have as wide of range. The largest lemma range appears to fall in the 0.0 to 0.05 range."
   ]
  },
  {
   "cell_type": "markdown",
   "metadata": {},
   "source": [
    "## Question 8:\n",
    "\n",
    "8. Which tokens and lexems would be ommitted from the lists generated in questions 3 and 4 if we only wanted to consider nouns as interesting words?  How might we change the code to only consider nouns? Put your answer in this Markdown cell (you can edit it by double clicking it).\n",
    "\n",
    "\n",
    "##### Below is sample of changing the codes to only consider the nouns. When looking at the results, there shouldn't be much change. However, of interesting note, when tokens are set to nouns it removed the word LED, I think it must read it as a verb, even though in this article it is being used as a noun to refer to the light. For the top 5 Lemmas, LED made the list still.  \n"
   ]
  },
  {
   "cell_type": "code",
   "execution_count": 198,
   "metadata": {},
   "outputs": [
    {
     "name": "stdout",
     "output_type": "stream",
     "text": [
      "Top 5 Tokens [('laser', 35), ('headlights', 19), ('headlight', 11), ('technology', 10), ('led', 10)]\n",
      "VS.\n",
      "Top 5 Noun Tokens [('laser', 30), ('headlights', 17), ('technology', 10), ('headlight', 8), ('beam', 7)]\n",
      "\n",
      "\n",
      "Top 5 Lemmas [('laser', 40), ('headlight', 28), ('beam', 12), ('led', 12), ('light', 11)]\n",
      "VS.\n",
      "Top 5 Noun Lemmas [('laser', 35), ('headlight', 25), ('beam', 12), ('technology', 10), ('led', 9)]\n"
     ]
    }
   ],
   "source": [
    "def we_care_about_nouns(token):\n",
    "    for token in token:\n",
    "        if token.pos_ == 'NOUN':\n",
    "            return not (token.is_space or token.is_punct or token.is_stop)\n",
    "\n",
    "interesting_ntokens = [str(token).lower() for token in doc if token.pos_ == 'NOUN']\n",
    "noun_word_freq = Counter(map(str,interesting_ntokens))\n",
    "\n",
    "\n",
    "ntokens = set()\n",
    "for token, freq in noun_word_freq.most_common(5):\n",
    "    ntokens.add(token)\n",
    "\n",
    "#comparing tokens vs. tokens that are nouns\n",
    "print('Top 5 Tokens',word_freq.most_common(5))\n",
    "print('VS.')\n",
    "print(\"Top 5 Noun Tokens\", noun_word_freq.most_common(5))\n",
    "print()\n",
    "\n",
    "#Lemmas that are nouns\n",
    "\n",
    "interesting_nlemmas = [token.lemma_.lower() for token in doc if token.pos_ == 'NOUN']\n",
    "noun_lemma_freq = Counter(interesting_nlemmas)\n",
    "\n",
    "\n",
    "nlemmas = set()\n",
    "for token, freq in noun_lemma_freq.most_common(5):\n",
    "    nlemmas.add(token)\n",
    "    \n",
    "#comparing lemmas vs. lemmas that are nouns\n",
    "print()\n",
    "print(\"Top 5 Lemmas\",lemma_freq.most_common(5))\n",
    "print('VS.')\n",
    "print(\"Top 5 Noun Lemmas\", noun_lemma_freq.most_common(5))"
   ]
  }
 ],
 "metadata": {
  "kernelspec": {
   "display_name": "Python 3 (ipykernel)",
   "language": "python",
   "name": "python3"
  },
  "language_info": {
   "codemirror_mode": {
    "name": "ipython",
    "version": 3
   },
   "file_extension": ".py",
   "mimetype": "text/x-python",
   "name": "python",
   "nbconvert_exporter": "python",
   "pygments_lexer": "ipython3",
   "version": "3.9.7"
  }
 },
 "nbformat": 4,
 "nbformat_minor": 4
}
